{
 "cells": [
  {
   "cell_type": "code",
   "execution_count": 1,
   "metadata": {
    "collapsed": true,
    "pycharm": {
     "name": "#%%\n"
    }
   },
   "outputs": [],
   "source": [
    "import pandas as pd\n"
   ]
  },
  {
   "cell_type": "code",
   "execution_count": 2,
   "outputs": [],
   "source": [
    "df_hr_data = pd.read_xml('/Users/eshishmarina/PycharmProjects/HR_data_analysis/data/hr_data.xml')\n",
    "df_A_office = pd.read_xml('/Users/eshishmarina/PycharmProjects/HR_data_analysis/data/A_office_data.xml')\n",
    "df_B_office = pd.read_xml('/Users/eshishmarina/PycharmProjects/HR_data_analysis/data/B_office_data.xml')"
   ],
   "metadata": {
    "collapsed": false,
    "pycharm": {
     "name": "#%%\n"
    }
   }
  },
  {
   "cell_type": "markdown",
   "source": [
    "Меняем ID сотрудников и устанавливаем новый индекс, объединяем три таблицы в одну"
   ],
   "metadata": {
    "collapsed": false,
    "pycharm": {
     "name": "#%% md\n"
    }
   }
  },
  {
   "cell_type": "code",
   "execution_count": 3,
   "outputs": [],
   "source": [
    "df_A_office['employee_office_id'] = 'A' + df_A_office['employee_office_id'].astype('str')\n",
    "df_B_office['employee_office_id'] = 'B' + df_B_office['employee_office_id'].astype('str')\n",
    "\n",
    "df_A_office.set_index('employee_office_id', inplace=True)\n",
    "df_B_office.set_index('employee_office_id', inplace=True)\n",
    "\n",
    "\n",
    "AB_offices = pd.concat([df_A_office, df_B_office])\n",
    "all_merged = AB_offices.merge(df_hr_data, how='left', left_on='employee_office_id', right_on='employee_id', indicator=True)\n",
    "all_merged = all_merged[all_merged.employee_id.notnull()]\n",
    "all_merged.drop(columns=['_merge'], inplace=True)\n",
    "all_merged.set_index('employee_id', inplace=True)\n"
   ],
   "metadata": {
    "collapsed": false,
    "pycharm": {
     "name": "#%%\n"
    }
   }
  },
  {
   "cell_type": "markdown",
   "source": [
    "Департаменты Топ-10 сотрудников по кол-ву рабочего времени.\n",
    "Группируем по сотруднику и департаменту, отбираем первые 10 по кол-ву раб часов. У результата получается двойной индекс(кортеж): ID работника + департамент. Достаем департамент из каждого кортежа"
   ],
   "metadata": {
    "collapsed": false,
    "pycharm": {
     "name": "#%% md\n"
    }
   }
  },
  {
   "cell_type": "code",
   "execution_count": 4,
   "outputs": [
    {
     "name": "stdout",
     "output_type": "stream",
     "text": [
      "['support', 'marketing', 'technical', 'hr', 'support', 'sales', 'hr', 'support', 'technical', 'technical']\n"
     ]
    }
   ],
   "source": [
    "by_hours = all_merged.groupby(['employee_id', 'Department'])['average_monthly_hours'].sum().sort_values(ascending=False).head(10)\n",
    "by_hours_indexes = by_hours.index.values\n",
    "first_result = [tup[1] for tup in by_hours_indexes]\n",
    "print(first_result)"
   ],
   "metadata": {
    "collapsed": false,
    "pycharm": {
     "name": "#%%\n"
    }
   }
  },
  {
   "cell_type": "markdown",
   "source": [
    "Общее кол-во проектов в ИТ-департаменте у сотрудников с низкими зарплатами.\n",
    "Делаем отбор по департаменту и уровню ЗП, суммируем кол-во проектов"
   ],
   "metadata": {
    "collapsed": false,
    "pycharm": {
     "name": "#%% md\n"
    }
   }
  },
  {
   "cell_type": "code",
   "execution_count": 5,
   "outputs": [
    {
     "name": "stdout",
     "output_type": "stream",
     "text": [
      "847\n"
     ]
    }
   ],
   "source": [
    "second_result = all_merged.query(\"Department == 'IT' & salary == 'low'\")['number_project'].sum()\n",
    "print(second_result)"
   ],
   "metadata": {
    "collapsed": false,
    "pycharm": {
     "name": "#%%\n"
    }
   }
  },
  {
   "cell_type": "markdown",
   "source": [
    "Последние оценки и уровень удовлетворенности сотрудников с ID A4, B7064, A3033.\n",
    "Используем метод loc, по строкам фильтруем ID работника, по столбцам оценку работника"
   ],
   "metadata": {
    "collapsed": false,
    "pycharm": {
     "name": "#%% md\n"
    }
   }
  },
  {
   "cell_type": "code",
   "execution_count": 6,
   "outputs": [
    {
     "name": "stdout",
     "output_type": "stream",
     "text": [
      "[[0.87, 0.72], [0.56, 0.36], [0.94, 0.93]]\n"
     ]
    }
   ],
   "source": [
    "list_A4 = list(all_merged.loc['A4', ['last_evaluation', 'satisfaction_level']])\n",
    "list_B7064 = list(all_merged.loc['B7064', ['last_evaluation', 'satisfaction_level']])\n",
    "list_A3033 = list(all_merged.loc['A3033', ['last_evaluation', 'satisfaction_level']])\n",
    "third_result = [list_A4, list_B7064, list_A3033]\n",
    "print(third_result)"
   ],
   "metadata": {
    "collapsed": false,
    "pycharm": {
     "name": "#%%\n"
    }
   }
  },
  {
   "cell_type": "markdown",
   "source": [
    "Медианное кол-во проектов с группировкой по признаку 'left' (уволившиеся и не уволившиеся сотрудники)"
   ],
   "metadata": {
    "collapsed": false,
    "pycharm": {
     "name": "#%% md\n"
    }
   }
  },
  {
   "cell_type": "code",
   "execution_count": 7,
   "outputs": [],
   "source": [
    "median_num_of_projects = all_merged.groupby('left')['number_project'].agg('median').round(2).to_dict()"
   ],
   "metadata": {
    "collapsed": false,
    "pycharm": {
     "name": "#%%\n"
    }
   }
  },
  {
   "cell_type": "markdown",
   "source": [
    "Кол-во сотрудников, которые работали более чем над 5 проектами с группировкой по признаку 'left'"
   ],
   "metadata": {
    "collapsed": false,
    "pycharm": {
     "name": "#%% md\n"
    }
   }
  },
  {
   "cell_type": "code",
   "execution_count": 8,
   "outputs": [],
   "source": [
    "summa = pd.pivot_table(all_merged, index='employee_id', columns='left', values='number_project', aggfunc=sum)\n",
    "summa = summa[(summa[0] > 5) | (summa[1] > 5)]\n",
    "not_left = summa[0].count().round(2)\n",
    "left = summa[1].count().round(2)"
   ],
   "metadata": {
    "collapsed": false,
    "pycharm": {
     "name": "#%%\n"
    }
   }
  },
  {
   "cell_type": "markdown",
   "source": [
    "Среднее и медианное количество отработанного времени с группировкой по признаку 'left'"
   ],
   "metadata": {
    "collapsed": false,
    "pycharm": {
     "name": "#%% md\n"
    }
   }
  },
  {
   "cell_type": "code",
   "execution_count": 9,
   "outputs": [],
   "source": [
    "median_time_spent = all_merged.groupby('left')['time_spend_company'].agg('median').round(2).to_dict()\n",
    "mean_time_spent = all_merged.groupby('left')['time_spend_company'].agg('mean').round(2).to_dict()"
   ],
   "metadata": {
    "collapsed": false,
    "pycharm": {
     "name": "#%%\n"
    }
   }
  },
  {
   "cell_type": "markdown",
   "source": [
    "Среднее и средне-квадратичное отклонение оценки с группировкой по признаку 'left'"
   ],
   "metadata": {
    "collapsed": false,
    "pycharm": {
     "name": "#%% md\n"
    }
   }
  },
  {
   "cell_type": "code",
   "execution_count": 10,
   "outputs": [],
   "source": [
    "mean_eval = all_merged.groupby('left')['last_evaluation'].agg('mean').round(2).to_dict()\n",
    "std_eval = all_merged.groupby('left')['last_evaluation'].agg('std').round(2).to_dict()"
   ],
   "metadata": {
    "collapsed": false,
    "pycharm": {
     "name": "#%%\n"
    }
   }
  },
  {
   "cell_type": "markdown",
   "source": [
    "Доля работников, у которых были рабочие происшествия с группировкой по признаку 'left'"
   ],
   "metadata": {
    "collapsed": false,
    "pycharm": {
     "name": "#%% md\n"
    }
   }
  },
  {
   "cell_type": "code",
   "execution_count": 11,
   "outputs": [],
   "source": [
    "all_merged['count_accident'] = all_merged.groupby('left')['Work_accident'].transform('sum')\n",
    "all_merged['count_by_left'] = all_merged.groupby('left')['left'].transform('count')\n",
    "all_merged['accident_pct'] = (all_merged['count_accident'] / all_merged['count_by_left']).round(2)\n",
    "accident_pct_by_left = all_merged.groupby('left')['accident_pct'].mean().to_dict()"
   ],
   "metadata": {
    "collapsed": false,
    "pycharm": {
     "name": "#%%\n"
    }
   }
  },
  {
   "cell_type": "code",
   "execution_count": 12,
   "outputs": [
    {
     "name": "stdout",
     "output_type": "stream",
     "text": [
      "{('number_project', 'median'): {0.0: 4.0, 1.0: 4.0}, ('number_project', 'count_bigger_5'): {0: 207, 1: 339}, ('time_spend_company', 'mean'): {0.0: 3.4, 1.0: 3.91}, ('time_spend_company', 'median'): {0.0: 3.0, 1.0: 4.0}, ('Work_accident', 'mean'): {0.0: 0.18, 1.0: 0.04}, ('last_evaluation', 'mean'): {0.0: 0.72, 1.0: 0.72}, ('last_evaluation', 'std'): {0.0: 0.16, 1.0: 0.2}}\n"
     ]
    }
   ],
   "source": [
    "result = {('number_project', 'median'): median_num_of_projects,\n",
    " ('number_project', 'count_bigger_5'): {0: not_left, 1: left},\n",
    " ('time_spend_company', 'mean'): mean_time_spent,\n",
    " ('time_spend_company', 'median'): median_time_spent,\n",
    " ('Work_accident', 'mean'): accident_pct_by_left,\n",
    " ('last_evaluation', 'mean'): mean_eval,\n",
    " ('last_evaluation', 'std'): std_eval}\n",
    "print(result)"
   ],
   "metadata": {
    "collapsed": false,
    "pycharm": {
     "name": "#%%\n"
    }
   }
  },
  {
   "cell_type": "markdown",
   "source": [
    "Данные для сводной таблицы, где список департаментов соответствует условиям:\n",
    "1. для неуволившихся сотрудников медианное кол-во отработанных часов у работников с высокой зарплатой меньше,\n",
    "чем медианное кол-во отработанных часов у работников со средней зарплатой."
   ],
   "metadata": {
    "collapsed": false,
    "pycharm": {
     "name": "#%% md\n"
    }
   }
  },
  {
   "cell_type": "code",
   "execution_count": 13,
   "outputs": [],
   "source": [
    "high_salary_hours_0 = all_merged.query(\"salary=='high' & left==0\").groupby('Department')['average_monthly_hours'].median().rename('average_monthly_hours_high').reset_index()\n",
    "medium_salary_hours_0 = all_merged.query(\"salary=='medium' & left==0\").groupby('Department')['average_monthly_hours'].median().reset_index()\n",
    "\n",
    "a = high_salary_hours_0.merge(medium_salary_hours_0)\n",
    "a = a[a.average_monthly_hours_high < a.average_monthly_hours]\n",
    "dep_list_0 = list(a['Department'])"
   ],
   "metadata": {
    "collapsed": false,
    "pycharm": {
     "name": "#%%\n"
    }
   }
  },
  {
   "cell_type": "markdown",
   "source": [
    "2. для уволившихся сотрудников медианное кол-во отработанных часов у работников с низкой зарплатой меньше,\n",
    "чем медианное кол-во отработанных часов у работников со высокой зарплатой."
   ],
   "metadata": {
    "collapsed": false,
    "pycharm": {
     "name": "#%% md\n"
    }
   }
  },
  {
   "cell_type": "code",
   "execution_count": 14,
   "outputs": [],
   "source": [
    "low_salary_hours_1 = all_merged.query(\"salary=='low' & left==1\").groupby('Department')['average_monthly_hours'].median().rename('average_monthly_hours_low').reset_index()\n",
    "high_salary_hours_1 = all_merged.query(\"salary=='high' & left==1\").groupby('Department')['average_monthly_hours'].median().reset_index()\n",
    "\n",
    "b = low_salary_hours_1.merge(high_salary_hours_1)\n",
    "b = b[b.average_monthly_hours_low < b.average_monthly_hours]\n",
    "dep_list_1 = list(b['Department'])\n",
    "\n",
    "dep_list = dep_list_0 + dep_list_1\n",
    "\n",
    "all_merged_for_pivot1 = all_merged[all_merged.Department.isin(dep_list)]"
   ],
   "metadata": {
    "collapsed": false,
    "pycharm": {
     "name": "#%%\n"
    }
   }
  },
  {
   "cell_type": "code",
   "execution_count": 19,
   "outputs": [
    {
     "name": "stdout",
     "output_type": "stream",
     "text": [
      "left           0.0                  1.0              \n",
      "salary        high    low medium   high    low medium\n",
      "Department                                           \n",
      "IT           193.0  198.5  199.0  155.0  235.0  198.0\n",
      "management   196.0  208.0  201.0  259.0  230.5  235.0\n",
      "marketing    173.0  199.5  185.0  148.5  155.0  157.0\n",
      "product_mng  172.0  198.5  202.0  149.0  218.0  154.5\n",
      "sales        190.0  198.0  198.0  241.5  224.5  225.0\n",
      "support      214.0  194.5  196.0  237.0  219.0  221.0\n",
      "technical    193.0  197.0  202.0  157.5  244.0  232.0\n"
     ]
    }
   ],
   "source": [
    "first_pivot = pd.pivot_table(all_merged_for_pivot1, index='Department', columns=['left', 'salary'], values='average_monthly_hours', aggfunc='median')\n",
    "print(first_pivot)"
   ],
   "metadata": {
    "collapsed": false,
    "pycharm": {
     "name": "#%%\n"
    }
   }
  },
  {
   "cell_type": "markdown",
   "source": [
    "Данные для сводной таблицы, где оценка сотрудника, которого повысили меньше, чем у того, которого не повысили."
   ],
   "metadata": {
    "collapsed": false,
    "pycharm": {
     "name": "#%% md\n"
    }
   }
  },
  {
   "cell_type": "code",
   "execution_count": 16,
   "outputs": [],
   "source": [
    "promoted = all_merged.query(\"promotion_last_5years==1\").groupby('time_spend_company')['last_evaluation'].mean().rename('promoted').reset_index()\n",
    "not_promoted = all_merged.query(\"promotion_last_5years==0\").groupby('time_spend_company')['last_evaluation'].mean().rename('not_promoted').reset_index()\n",
    "\n",
    "c = promoted.merge(not_promoted)\n",
    "c = c[c.not_promoted > c.promoted]\n",
    "time_spend_company_included = list(c['time_spend_company'])\n",
    "all_merged_for_pivot2 = all_merged[all_merged.time_spend_company.isin(time_spend_company_included)]"
   ],
   "metadata": {
    "collapsed": false,
    "pycharm": {
     "name": "#%%\n"
    }
   }
  },
  {
   "cell_type": "code",
   "execution_count": 18,
   "outputs": [
    {
     "name": "stdout",
     "output_type": "stream",
     "text": [
      "                                  max                                 \\\n",
      "                      last_evaluation       satisfaction_level         \n",
      "promotion_last_5years               0     1                  0     1   \n",
      "time_spend_company                                                     \n",
      "2                                 1.0  0.99               1.00  0.94   \n",
      "4                                 1.0  0.90               1.00  0.94   \n",
      "5                                 1.0  0.91               1.00  0.82   \n",
      "6                                 1.0  0.71               1.00  0.81   \n",
      "10                                1.0  0.94               0.99  0.85   \n",
      "\n",
      "                                 mean                                        \\\n",
      "                      last_evaluation          satisfaction_level             \n",
      "promotion_last_5years               0        1                  0         1   \n",
      "time_spend_company                                                            \n",
      "2                            0.716292  0.69125           0.700874  0.646875   \n",
      "4                            0.765371  0.74750           0.477299  0.601667   \n",
      "5                            0.819968  0.60750           0.616445  0.660000   \n",
      "6                            0.765621  0.51500           0.587448  0.623000   \n",
      "10                           0.720658  0.63000           0.657632  0.508750   \n",
      "\n",
      "                                  min                                 \n",
      "                      last_evaluation       satisfaction_level        \n",
      "promotion_last_5years               0     1                  0     1  \n",
      "time_spend_company                                                    \n",
      "2                                0.37  0.52               0.09  0.29  \n",
      "4                                0.36  0.42               0.09  0.15  \n",
      "5                                0.38  0.37               0.09  0.23  \n",
      "6                                0.37  0.38               0.12  0.48  \n",
      "10                               0.37  0.48               0.14  0.22  \n"
     ]
    }
   ],
   "source": [
    "second_pivot = pd.pivot_table(all_merged_for_pivot2, index='time_spend_company', columns=['promotion_last_5years'], values=['last_evaluation', 'satisfaction_level'], aggfunc=['max', 'mean', 'min'])\n",
    "print(second_pivot)"
   ],
   "metadata": {
    "collapsed": false,
    "pycharm": {
     "name": "#%%\n"
    }
   }
  },
  {
   "cell_type": "code",
   "execution_count": null,
   "outputs": [],
   "source": [],
   "metadata": {
    "collapsed": false,
    "pycharm": {
     "name": "#%%\n"
    }
   }
  }
 ],
 "metadata": {
  "kernelspec": {
   "display_name": "Python 3",
   "language": "python",
   "name": "python3"
  },
  "language_info": {
   "codemirror_mode": {
    "name": "ipython",
    "version": 2
   },
   "file_extension": ".py",
   "mimetype": "text/x-python",
   "name": "python",
   "nbconvert_exporter": "python",
   "pygments_lexer": "ipython2",
   "version": "2.7.6"
  }
 },
 "nbformat": 4,
 "nbformat_minor": 0
}